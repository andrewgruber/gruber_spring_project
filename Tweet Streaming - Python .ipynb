{
 "cells": [
  {
   "cell_type": "markdown",
   "id": "99902423",
   "metadata": {},
   "source": [
    "## Important: pip install searchtweets and searchtweets-v2"
   ]
  },
  {
   "cell_type": "code",
   "execution_count": 1,
   "id": "69d4bcc7",
   "metadata": {},
   "outputs": [],
   "source": [
    "from searchtweets import ResultStream, gen_request_parameters, load_credentials\n",
    "import os"
   ]
  },
  {
   "cell_type": "code",
   "execution_count": 2,
   "id": "cf9aa4f2",
   "metadata": {},
   "outputs": [
    {
     "name": "stderr",
     "output_type": "stream",
     "text": [
      "cannot read file nothing_here.yaml\n",
      "Error parsing YAML file; searching for valid environment variables\n"
     ]
    }
   ],
   "source": [
    "os.environ[\"SEARCHTWEETS_ACCOUNT_TYPE\"] = 'premium'\n",
    "os.environ[\"SEARCHTWEETS_BEARER_TOKEN\"] = 'AAAAAAAAAAAAAAAAAAAAALr7SgEAAAAAqjGLm03LxWrh8gDed4yHnmpeJqo%3DLjXGsKkdurYdbEH0NJw31kX9pA6zFUJyo512pfyYYfLRAGJIEm'\n",
    "os.environ[\"SEARCHTWEETS_ENDPOINT\"] = 'https://api.twitter.com/2/tweets/search/all'\n",
    "search_args = load_credentials(filename=\"nothing_here.yaml\", yaml_key=\"no_key_here\")"
   ]
  },
  {
   "cell_type": "code",
   "execution_count": 6,
   "id": "eb1e9a30",
   "metadata": {},
   "outputs": [
    {
     "name": "stdout",
     "output_type": "stream",
     "text": [
      "{\"query\":\"snow\",\"max_results\":100}\n"
     ]
    }
   ],
   "source": [
    "query = gen_request_parameters(\"snow\", results_per_call=100, granularity='')\n",
    "print(query)"
   ]
  },
  {
   "cell_type": "markdown",
   "id": "13e20378",
   "metadata": {},
   "source": [
    "### Collect Results"
   ]
  },
  {
   "cell_type": "code",
   "execution_count": 16,
   "id": "e0f2bd58",
   "metadata": {},
   "outputs": [],
   "source": [
    "from searchtweets import collect_results\n",
    "tweets = collect_results(query,\n",
    "                         max_tweets=10000,\n",
    "                         result_stream_args=search_args) "
   ]
  },
  {
   "cell_type": "markdown",
   "id": "1c5ff21b",
   "metadata": {},
   "source": [
    "### Results Stream"
   ]
  },
  {
   "cell_type": "code",
   "execution_count": 11,
   "id": "2dd2525d",
   "metadata": {},
   "outputs": [
    {
     "name": "stdout",
     "output_type": "stream",
     "text": [
      "ResultStream: \n",
      "\t{\n",
      "    \"endpoint\": \"https:\\/\\/api.twitter.com\\/2\\/tweets\\/search\\/all\",\n",
      "    \"request_parameters\": {\n",
      "        \"query\": \"snow\",\n",
      "        \"max_results\": 100\n",
      "    },\n",
      "    \"max_tweets\": 500\n",
      "}\n"
     ]
    }
   ],
   "source": [
    "rs = ResultStream(request_parameters=query,\n",
    "                    max_results=5000,\n",
    "                    max_pages=10,\n",
    "                    **search_args)\n",
    "\n",
    "print(rs)"
   ]
  },
  {
   "cell_type": "code",
   "execution_count": 12,
   "id": "ee0b39bb",
   "metadata": {},
   "outputs": [],
   "source": [
    "tweets = list(rs.stream())"
   ]
  },
  {
   "cell_type": "code",
   "execution_count": null,
   "id": "a2d3bf52",
   "metadata": {},
   "outputs": [],
   "source": []
  }
 ],
 "metadata": {
  "kernelspec": {
   "display_name": "Python 3",
   "language": "python",
   "name": "python3"
  },
  "language_info": {
   "codemirror_mode": {
    "name": "ipython",
    "version": 3
   },
   "file_extension": ".py",
   "mimetype": "text/x-python",
   "name": "python",
   "nbconvert_exporter": "python",
   "pygments_lexer": "ipython3",
   "version": "3.8.8"
  }
 },
 "nbformat": 4,
 "nbformat_minor": 5
}
